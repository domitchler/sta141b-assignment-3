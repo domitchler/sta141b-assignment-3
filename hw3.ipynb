{
 "cells": [
  {
   "cell_type": "markdown",
   "metadata": {},
   "source": [
    "# STA 141B Assignment 3\n",
    "\n",
    "Due __Feb 11, 2019__ by 11:59pm. Submit by editing this file, committing the changes with git, and then pushing to your private GitHub repo for the assignment. This assignment will be graded according to the class rubric.\n",
    "\n",
    "Please do not rename this file or delete the exercise cells, because it will interfere with our grading tools. Put your answers in new cells after each exercise. You can make as many new cells as you like. Use code cells for code and Markdown cells for text. Answer all questions with complete sentences.\n",
    "\n",
    "The purpose of this assignment is to practice using web APIs and combining data from multiple sources."
   ]
  },
  {
   "cell_type": "markdown",
   "metadata": {
    "class": "fill"
   },
   "source": [
    "## USDA Food Composition\n",
    "\n",
    "The US Department of Agriculture publishes price estimates for fruits and vegetables [online](https://www.ers.usda.gov/data-products/fruit-and-vegetable-prices/fruit-and-vegetable-prices/). The most recent estimates are based on a 2013 survey of US retail stores. We've cleaned and merged the fruit and vegetable price estimates for you. The result is the `fresh.csv` file included in the repository.\n",
    "\n",
    "In this assignment, you'll combine the price estimates with nutrition data from the [USDA Food Composition Databases](https://ndb.nal.usda.gov/ndb/search/list), and then analyze the resulting dataset.\n",
    "\n",
    "The USDA Food Composition Databases have a [documented](https://ndb.nal.usda.gov/ndb/doc/index) web API that returns data in JSON format . You need a key in order to use the API. Only 1000 requests are allowed per hour, so it's a good idea to use caching.\n",
    "\n",
    "[Sign up for an API key here](https://api.data.gov/signup/). The key will work with any data.gov API. You may need the key again later in the quarter, so make sure you save it."
   ]
  },
  {
   "cell_type": "markdown",
   "metadata": {
    "class": "ex",
    "exercise": "1.1",
    "points": "20",
    "tags": [
     "exercise"
    ]
   },
   "source": [
    "__Exercise 1.1__\n",
    "\n",
    "Read the [search request documentation](https://ndb.nal.usda.gov/ndb/doc/apilist/API-SEARCH.md), then write a function called `ndb_search()` that makes a search request. The function should accept the search term as an argument. The function should return the search result items as a list (for 0 items, return an empty list).\n",
    "\n",
    "Note that the search url is: `https://api.nal.usda.gov/ndb/search`\n",
    "\n",
    "As an example, a search for `\"quail eggs\"` might return this list:\n",
    "\n",
    "```python\n",
    "[{'offset': 0,\n",
    "  'group': 'Branded Food Products Database',\n",
    "  'name': 'EL COMPI, QUAIL EGGS, UPC: 854955002226',\n",
    "  'ndbno': '45362205',\n",
    "  'ds': 'LI',\n",
    "  'manu': \"milly's desserts llc\"},\n",
    " {'offset': 1,\n",
    "  'group': 'Branded Food Products Database',\n",
    "  'name': 'BUDDHA, QUAIL EGGS IN BRINE, UPC: 761934535098',\n",
    "  'ndbno': '45099560',\n",
    "  'ds': 'LI',\n",
    "  'manu': 'Sung Ly International Corporation'},\n",
    " {'offset': 2,\n",
    "  'group': 'Branded Food Products Database',\n",
    "  'name': 'GRAN SABANA, QUAIL EGGS, UPC: 819140010103',\n",
    "  'ndbno': '45169279',\n",
    "  'ds': 'LI',\n",
    "  'manu': 'L & M C Farms, Inc.'},\n",
    " {'offset': 3,\n",
    "  'group': 'Branded Food Products Database',\n",
    "  'name': 'L&W, QUAIL EGGS, UPC: 024072000256',\n",
    "  'ndbno': '45094890',\n",
    "  'ds': 'LI',\n",
    "  'manu': 'L&W International Co.'},\n",
    " {'offset': 4,\n",
    "  'group': 'Branded Food Products Database',\n",
    "  'name': 'CHAOKOH, QUAIL EGG IN BRINE, UPC: 044738074186',\n",
    "  'ndbno': '45094707',\n",
    "  'ds': 'LI',\n",
    "  'manu': 'Theppadung Porn Coconut Co'},\n",
    " {'offset': 5,\n",
    "  'group': 'Dairy and Egg Products',\n",
    "  'name': 'Egg, quail, whole, fresh, raw',\n",
    "  'ndbno': '01140',\n",
    "  'ds': 'SR',\n",
    "  'manu': 'none'}]\n",
    "```\n",
    "\n",
    "As usual, make sure you document and test your function."
   ]
  },
  {
   "cell_type": "markdown",
   "metadata": {
    "class": "ex",
    "exercise": "1.2",
    "points": "20",
    "tags": [
     "exercise"
    ]
   },
   "source": [
    "__Exercise 1.2__\n",
    "\n",
    "Use your search function to get NDB numbers for the foods in the `fresh.csv` file. It's okay if you don't get an NDB number for every food, but try to come up with a strategy that gets most of them. Discuss your strategy in a short paragraph.\n",
    "\n",
    "Hints:\n",
    "\n",
    "* The foods are all raw and unbranded.\n",
    "* You can test search terms with the [online search page](https://ndb.nal.usda.gov/ndb/search/list).\n",
    "* The [Python](https://docs.python.org/3/library/stdtypes.html#string-methods) and [Pandas](http://pandas.pydata.org/pandas-docs/stable/user_guide/text.html) string methods are useful here. It's okay if you use _simple_ regular expressions in the Pandas methods, although this exercise can be solved without them.\n",
    "* You can merge data frames that have a column in common with `pd.merge()`."
   ]
  },
  {
   "cell_type": "markdown",
   "metadata": {
    "class": "ex",
    "exercise": "1.3",
    "points": "20",
    "tags": [
     "exercise"
    ]
   },
   "source": [
    "__Exercise 1.3__\n",
    "\n",
    "Read the [food reports V2 documentation](https://ndb.nal.usda.gov/ndb/doc/apilist/API-FOOD-REPORTV2.md), then write a function called `ndb_report()` that requests a _basic_ food report. The function should accept the NDB number as an argument and return the list of nutrients for the food.\n",
    "\n",
    "Note that the report url is: `https://api.nal.usda.gov/ndb/V2/reports`\n",
    "\n",
    "For example, for `\"09279\"` (raw plums) the first element of the returned list should be:\n",
    "\n",
    "```python\n",
    "{'nutrient_id': '255',\n",
    " 'name': 'Water',\n",
    " 'derivation': 'NONE',\n",
    " 'group': 'Proximates',\n",
    " 'unit': 'g',\n",
    " 'value': '87.23',\n",
    " 'measures': [{'label': 'cup, sliced',\n",
    "   'eqv': 165.0,\n",
    "   'eunit': 'g',\n",
    "   'qty': 1.0,\n",
    "   'value': '143.93'},\n",
    "  {'label': 'fruit (2-1/8\" dia)',\n",
    "   'eqv': 66.0,\n",
    "   'eunit': 'g',\n",
    "   'qty': 1.0,\n",
    "   'value': '57.57'},\n",
    "  {'label': 'NLEA serving',\n",
    "   'eqv': 151.0,\n",
    "   'eunit': 'g',\n",
    "   'qty': 1.0,\n",
    "   'value': '131.72'}]}\n",
    "```\n",
    "\n",
    "Be sure to document and test your function."
   ]
  },
  {
   "cell_type": "markdown",
   "metadata": {
    "tags": [
     "exercise"
    ]
   },
   "source": [
    "__Exercise 1.4.__\n",
    "\n",
    "Answer any two of the questions below. For each answer, state the question, write 2-3 paragraphs, and support your conclusions with plots.\n",
    "\n",
    " If you like, you can replace one question with a question you came up with on your own.\n",
    "\n",
    "* Are fruits typically higher in kilocalories, or vegetables?\n",
    "* How does yield for fibrous foods (high in dietary fiber) compare to other foods?\n",
    "* Which food provides the widest variety of nutrients?\n",
    "* Which nutrients are the most expensive?\n",
    "* Which foods are the best value for the price? \"Best value\" might mean highest yield per dollar, most kilocalories per dollar, or some other reasonable definition.\n",
    "* How do the price distributions compare for fruits and vegetables?"
   ]
  }
 ],
 "metadata": {
  "kernelspec": {
   "display_name": "Python 3",
   "language": "python",
   "name": "python3"
  },
  "language_info": {
   "codemirror_mode": {
    "name": "ipython",
    "version": 3
   },
   "file_extension": ".py",
   "mimetype": "text/x-python",
   "name": "python",
   "nbconvert_exporter": "python",
   "pygments_lexer": "ipython3",
   "version": "3.7.1"
  }
 },
 "nbformat": 4,
 "nbformat_minor": 2
}
